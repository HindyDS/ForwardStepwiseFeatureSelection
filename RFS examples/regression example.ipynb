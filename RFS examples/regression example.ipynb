{
 "cells": [
  {
   "cell_type": "code",
   "execution_count": 1,
   "id": "49052a37",
   "metadata": {},
   "outputs": [],
   "source": [
    "import pandas as pd\n",
    "import time\n",
    "import matplotlib.pyplot as plt\n",
    "import seaborn as sns\n",
    "import numpy as np\n",
    "import RecurrsiveFeatureSelector"
   ]
  },
  {
   "cell_type": "code",
   "execution_count": 2,
   "id": "ae894a40",
   "metadata": {},
   "outputs": [],
   "source": [
    "insurance = pd.read_csv('insurance.csv')\n",
    "label = {key:value for (key,value) in zip(list(insurance['region'].unique()), [i for i in range(0,7)])}\n",
    "label.update({'male':0, 'female':1, 'yes':0, 'no':1})\n",
    "insurance.replace(label, inplace=True)"
   ]
  },
  {
   "cell_type": "code",
   "execution_count": 3,
   "id": "c8123c23",
   "metadata": {},
   "outputs": [
    {
     "data": {
      "text/html": [
       "<div>\n",
       "<style scoped>\n",
       "    .dataframe tbody tr th:only-of-type {\n",
       "        vertical-align: middle;\n",
       "    }\n",
       "\n",
       "    .dataframe tbody tr th {\n",
       "        vertical-align: top;\n",
       "    }\n",
       "\n",
       "    .dataframe thead th {\n",
       "        text-align: right;\n",
       "    }\n",
       "</style>\n",
       "<table border=\"1\" class=\"dataframe\">\n",
       "  <thead>\n",
       "    <tr style=\"text-align: right;\">\n",
       "      <th></th>\n",
       "      <th>age</th>\n",
       "      <th>sex</th>\n",
       "      <th>bmi</th>\n",
       "      <th>children</th>\n",
       "      <th>smoker</th>\n",
       "      <th>region</th>\n",
       "      <th>charges</th>\n",
       "    </tr>\n",
       "  </thead>\n",
       "  <tbody>\n",
       "    <tr>\n",
       "      <th>0</th>\n",
       "      <td>19</td>\n",
       "      <td>1</td>\n",
       "      <td>27.900</td>\n",
       "      <td>0</td>\n",
       "      <td>0</td>\n",
       "      <td>0</td>\n",
       "      <td>16884.92400</td>\n",
       "    </tr>\n",
       "    <tr>\n",
       "      <th>1</th>\n",
       "      <td>18</td>\n",
       "      <td>0</td>\n",
       "      <td>33.770</td>\n",
       "      <td>1</td>\n",
       "      <td>1</td>\n",
       "      <td>1</td>\n",
       "      <td>1725.55230</td>\n",
       "    </tr>\n",
       "    <tr>\n",
       "      <th>2</th>\n",
       "      <td>28</td>\n",
       "      <td>0</td>\n",
       "      <td>33.000</td>\n",
       "      <td>3</td>\n",
       "      <td>1</td>\n",
       "      <td>1</td>\n",
       "      <td>4449.46200</td>\n",
       "    </tr>\n",
       "    <tr>\n",
       "      <th>3</th>\n",
       "      <td>33</td>\n",
       "      <td>0</td>\n",
       "      <td>22.705</td>\n",
       "      <td>0</td>\n",
       "      <td>1</td>\n",
       "      <td>2</td>\n",
       "      <td>21984.47061</td>\n",
       "    </tr>\n",
       "    <tr>\n",
       "      <th>4</th>\n",
       "      <td>32</td>\n",
       "      <td>0</td>\n",
       "      <td>28.880</td>\n",
       "      <td>0</td>\n",
       "      <td>1</td>\n",
       "      <td>2</td>\n",
       "      <td>3866.85520</td>\n",
       "    </tr>\n",
       "  </tbody>\n",
       "</table>\n",
       "</div>"
      ],
      "text/plain": [
       "   age  sex     bmi  children  smoker  region      charges\n",
       "0   19    1  27.900         0       0       0  16884.92400\n",
       "1   18    0  33.770         1       1       1   1725.55230\n",
       "2   28    0  33.000         3       1       1   4449.46200\n",
       "3   33    0  22.705         0       1       2  21984.47061\n",
       "4   32    0  28.880         0       1       2   3866.85520"
      ]
     },
     "execution_count": 3,
     "metadata": {},
     "output_type": "execute_result"
    }
   ],
   "source": [
    "insurance.head()"
   ]
  },
  {
   "cell_type": "code",
   "execution_count": 4,
   "id": "302284b9",
   "metadata": {},
   "outputs": [],
   "source": [
    "X = insurance.drop('charges', axis=1)\n",
    "y = insurance[['charges']]\n",
    "\n",
    "from sklearn.model_selection import train_test_split\n",
    "X_train, X_test, y_train, y_test = train_test_split(X, y, test_size=0.33, random_state=42)"
   ]
  },
  {
   "cell_type": "code",
   "execution_count": 5,
   "id": "1e5498df",
   "metadata": {},
   "outputs": [],
   "source": [
    "from sklearn.preprocessing import StandardScaler\n",
    "scaler = StandardScaler()\n",
    "\n",
    "X_train = pd.DataFrame(scaler.fit_transform(X_train), columns=X_train.columns)\n",
    "X_test = pd.DataFrame(scaler.fit_transform(X_test), columns=X_test.columns)"
   ]
  },
  {
   "cell_type": "code",
   "execution_count": 6,
   "id": "2b4d088b",
   "metadata": {},
   "outputs": [],
   "source": [
    "import xgboost as xgb\n",
    "clf = xgb.XGBRegressor(use_label_encoder=False, verbosity=0)"
   ]
  },
  {
   "cell_type": "code",
   "execution_count": 7,
   "id": "7ff622e3",
   "metadata": {},
   "outputs": [],
   "source": [
    "from sklearn.model_selection import cross_val_score"
   ]
  },
  {
   "cell_type": "code",
   "execution_count": 8,
   "id": "51563ce8",
   "metadata": {
    "scrolled": false
   },
   "outputs": [
    {
     "name": "stdout",
     "output_type": "stream",
     "text": [
      "Trial Started:\n",
      "Searching the best subset of features with XGBRegressor...\n",
      "-----------------------------------------------------------Trial 1-----------------------------------------------------------\n",
      "1/6: ['age']\n",
      "      Negative Mean Absolute Error: -9313.559, Standard Deviation: 374.5946\n",
      " \n",
      "2/6: ['sex']\n",
      "      Negative Mean Absolute Error: -9133.8724, Standard Deviation: 360.391\n",
      " \n",
      "3/6: ['bmi']\n",
      "      Negative Mean Absolute Error: -10219.3304, Standard Deviation: 480.5625\n",
      " \n",
      "4/6: ['children']\n",
      "      Negative Mean Absolute Error: -9107.7967, Standard Deviation: 355.9167\n",
      " \n",
      "5/6: ['smoker']\n",
      "      Negative Mean Absolute Error: -5746.2588, Standard Deviation: 126.703\n",
      " \n",
      "6/6: ['region']\n",
      "      Negative Mean Absolute Error: -9101.1879, Standard Deviation: 408.8551\n",
      " \n",
      "Best Combination of Trial 1: \n",
      "     smoker\n",
      " \n",
      "Best Score of Trial 1: \n",
      "     -5746.2588\n",
      " \n",
      "Time Spent for Trial 1: 0.62(s)\n",
      " \n",
      "-----------------------------------------------------------Trial 2-----------------------------------------------------------\n",
      "1/5: ['smoker', 'age']\n",
      "      Negative Mean Absolute Error: -4582.2187, Standard Deviation: 211.3256\n",
      " \n",
      "2/5: ['smoker', 'sex']\n",
      "      Negative Mean Absolute Error: -5754.9967, Standard Deviation: 127.4874\n",
      " \n",
      "3/5: ['smoker', 'bmi']\n",
      "      Negative Mean Absolute Error: -5316.0559, Standard Deviation: 128.2513\n",
      " \n",
      "4/5: ['smoker', 'children']\n",
      "      Negative Mean Absolute Error: -5824.294, Standard Deviation: 177.4161\n",
      " \n",
      "5/5: ['smoker', 'region']\n",
      "      Negative Mean Absolute Error: -5690.5311, Standard Deviation: 165.4385\n",
      " \n",
      "Best Combination of Trial 2: \n",
      "     ['smoker', 'age']\n",
      " \n",
      "Best Score of Trial 2: \n",
      "     -4582.2187\n",
      " \n",
      "Time Spent for Trial 2: 0.63(s)\n",
      " \n",
      "-----------------------------------------------------------Trial 3-----------------------------------------------------------\n",
      "1/4: ['smoker', 'age', 'sex']\n",
      "      Negative Mean Absolute Error: -4819.9955, Standard Deviation: 286.8193\n",
      " \n",
      "2/4: ['smoker', 'age', 'bmi']\n",
      "      Negative Mean Absolute Error: -3384.1357, Standard Deviation: 68.5226\n",
      " \n",
      "3/4: ['smoker', 'age', 'children']\n",
      "      Negative Mean Absolute Error: -4746.894, Standard Deviation: 165.4964\n",
      " \n",
      "4/4: ['smoker', 'age', 'region']\n",
      "      Negative Mean Absolute Error: -4710.7994, Standard Deviation: 167.4266\n",
      " \n",
      "Best Combination of Trial 3: \n",
      "     ['smoker', 'age', 'bmi']\n",
      " \n",
      "Best Score of Trial 3: \n",
      "     -3384.1357\n",
      " \n",
      "Time Spent for Trial 3: 0.87(s)\n",
      " \n",
      "-----------------------------------------------------------Trial 4-----------------------------------------------------------\n",
      "1/3: ['smoker', 'age', 'bmi', 'sex']\n",
      "      Negative Mean Absolute Error: -3314.8876, Standard Deviation: 116.1406\n",
      " \n",
      "2/3: ['smoker', 'age', 'bmi', 'children']\n",
      "      Negative Mean Absolute Error: -3090.5992, Standard Deviation: 53.0172\n",
      " \n",
      "3/3: ['smoker', 'age', 'bmi', 'region']\n",
      "      Negative Mean Absolute Error: -3340.5269, Standard Deviation: 165.1447\n",
      " \n",
      "Best Combination of Trial 4: \n",
      "     ['smoker', 'age', 'bmi', 'children']\n",
      " \n",
      "Best Score of Trial 4: \n",
      "     -3090.5992\n",
      " \n",
      "Time Spent for Trial 4: 0.69(s)\n",
      " \n",
      "-----------------------------------------------------------Trial 5-----------------------------------------------------------\n",
      "1/2: ['smoker', 'age', 'bmi', 'children', 'sex']\n",
      "      Negative Mean Absolute Error: -3085.7086, Standard Deviation: 83.3391\n",
      " \n",
      "2/2: ['smoker', 'age', 'bmi', 'children', 'region']\n",
      "      Negative Mean Absolute Error: -3190.3544, Standard Deviation: 117.4554\n",
      " \n",
      "Best Combination of Trial 5: \n",
      "     ['smoker', 'age', 'bmi', 'children', 'sex']\n",
      " \n",
      "Best Score of Trial 5: \n",
      "     -3085.7086\n",
      " \n",
      "Time Spent for Trial 5: 0.47(s)\n",
      " \n",
      "-----------------------------------------------------------Trial 6-----------------------------------------------------------\n",
      "1/1: ['smoker', 'age', 'bmi', 'children', 'sex', 'region']\n",
      "      Negative Mean Absolute Error: -3122.9858, Standard Deviation: 88.6916\n",
      " \n",
      "Best Combination of Trial 6: \n",
      "     ['smoker', 'age', 'bmi', 'children', 'sex', 'region']\n",
      " \n",
      "Best Score of Trial 6: \n",
      "     -3122.9858\n",
      " \n",
      "Time Spent for Trial 6: 0.24(s)\n",
      " \n",
      "All features combinations have been tried out.\n",
      "--------------------------------------------------------Trial Summary--------------------------------------------------------\n",
      "Best Combination: \n",
      "     ['smoker', 'age', 'bmi', 'children', 'sex', 'region']\n",
      " \n",
      "Best Score: \n",
      "     -3122.9858\n",
      " \n",
      "---------------------------------------------End of Recurrsive Features Selection--------------------------------------------\n",
      "Total Time Spent: 3.57(s)\n"
     ]
    },
    {
     "data": {
      "image/png": "[encoded data removed]",
      "text/plain": [
       "<Figure size 1080x432 with 1 Axes>"
      ]
     },
     "metadata": {},
     "output_type": "display_data"
    }
   ],
   "source": [
    "rfs = RecurrsiveFeatureSelector.RecurrsiveFeatureSelector()\n",
    "rfs.trial(model=clf, \n",
    "          X=X_train, \n",
    "          y=y_train, \n",
    "          cv=3, \n",
    "          scoring='neg_mean_absolute_error',\n",
    "          max_round=None, \n",
    "          chances_to_fail=2, \n",
    "          jump_start=None)"
   ]
  },
  {
   "cell_type": "code",
   "execution_count": 9,
   "id": "f930bfe3",
   "metadata": {},
   "outputs": [
    {
     "data": {
      "text/plain": [
       "{'Trial 1': ['smoker'],\n",
       " 'Trial 2': ['smoker', 'age'],\n",
       " 'Trial 3': ['smoker', 'age', 'bmi'],\n",
       " 'Trial 4': ['smoker', 'age', 'bmi', 'children'],\n",
       " 'Trial 5': ['smoker', 'age', 'bmi', 'children', 'sex'],\n",
       " 'Trial 6': ['smoker', 'age', 'bmi', 'children', 'sex', 'region']}"
      ]
     },
     "execution_count": 9,
     "metadata": {},
     "output_type": "execute_result"
    }
   ],
   "source": [
    "rfs.best_com"
   ]
  },
  {
   "cell_type": "code",
   "execution_count": 10,
   "id": "5d93a90f",
   "metadata": {},
   "outputs": [
    {
     "data": {
      "text/html": [
       "<div>\n",
       "<style scoped>\n",
       "    .dataframe tbody tr th:only-of-type {\n",
       "        vertical-align: middle;\n",
       "    }\n",
       "\n",
       "    .dataframe tbody tr th {\n",
       "        vertical-align: top;\n",
       "    }\n",
       "\n",
       "    .dataframe thead th {\n",
       "        text-align: right;\n",
       "    }\n",
       "</style>\n",
       "<table border=\"1\" class=\"dataframe\">\n",
       "  <thead>\n",
       "    <tr style=\"text-align: right;\">\n",
       "      <th></th>\n",
       "      <th>best_com</th>\n",
       "      <th>best_score</th>\n",
       "      <th>trials_time_spend</th>\n",
       "    </tr>\n",
       "  </thead>\n",
       "  <tbody>\n",
       "    <tr>\n",
       "      <th>Trial 1</th>\n",
       "      <td>[smoker]</td>\n",
       "      <td>-5746.2588</td>\n",
       "      <td>0.62</td>\n",
       "    </tr>\n",
       "    <tr>\n",
       "      <th>Trial 2</th>\n",
       "      <td>[smoker, age]</td>\n",
       "      <td>-4582.2187</td>\n",
       "      <td>0.63</td>\n",
       "    </tr>\n",
       "    <tr>\n",
       "      <th>Trial 3</th>\n",
       "      <td>[smoker, age, bmi]</td>\n",
       "      <td>-3384.1357</td>\n",
       "      <td>0.87</td>\n",
       "    </tr>\n",
       "    <tr>\n",
       "      <th>Trial 4</th>\n",
       "      <td>[smoker, age, bmi, children]</td>\n",
       "      <td>-3090.5992</td>\n",
       "      <td>0.69</td>\n",
       "    </tr>\n",
       "    <tr>\n",
       "      <th>Trial 5</th>\n",
       "      <td>[smoker, age, bmi, children, sex]</td>\n",
       "      <td>-3085.7086</td>\n",
       "      <td>0.47</td>\n",
       "    </tr>\n",
       "    <tr>\n",
       "      <th>Trial 6</th>\n",
       "      <td>[smoker, age, bmi, children, sex, region]</td>\n",
       "      <td>-3122.9858</td>\n",
       "      <td>0.24</td>\n",
       "    </tr>\n",
       "  </tbody>\n",
       "</table>\n",
       "</div>"
      ],
      "text/plain": [
       "                                          best_com best_score  \\\n",
       "Trial 1                                   [smoker] -5746.2588   \n",
       "Trial 2                              [smoker, age] -4582.2187   \n",
       "Trial 3                         [smoker, age, bmi] -3384.1357   \n",
       "Trial 4               [smoker, age, bmi, children] -3090.5992   \n",
       "Trial 5          [smoker, age, bmi, children, sex] -3085.7086   \n",
       "Trial 6  [smoker, age, bmi, children, sex, region] -3122.9858   \n",
       "\n",
       "        trials_time_spend  \n",
       "Trial 1              0.62  \n",
       "Trial 2              0.63  \n",
       "Trial 3              0.87  \n",
       "Trial 4              0.69  \n",
       "Trial 5              0.47  \n",
       "Trial 6              0.24  "
      ]
     },
     "execution_count": 10,
     "metadata": {},
     "output_type": "execute_result"
    }
   ],
   "source": [
    "rfs.summary"
   ]
  },
  {
   "cell_type": "code",
   "execution_count": 11,
   "id": "1592ff5d",
   "metadata": {},
   "outputs": [
    {
     "data": {
      "text/plain": [
       "['smoker', 'age', 'bmi', 'children', 'sex']"
      ]
     },
     "execution_count": 11,
     "metadata": {},
     "output_type": "execute_result"
    }
   ],
   "source": [
    "rfs.trial_best"
   ]
  },
  {
   "cell_type": "code",
   "execution_count": 12,
   "id": "3294eabe",
   "metadata": {},
   "outputs": [
    {
     "data": {
      "text/plain": [
       "{'Trial 1': -5746.2588,\n",
       " 'Trial 2': -4582.2187,\n",
       " 'Trial 3': -3384.1357,\n",
       " 'Trial 4': -3090.5992,\n",
       " 'Trial 5': -3085.7086,\n",
       " 'Trial 6': -3122.9858}"
      ]
     },
     "execution_count": 12,
     "metadata": {},
     "output_type": "execute_result"
    }
   ],
   "source": [
    "rfs.best_score"
   ]
  }
 ],
 "metadata": {
  "kernelspec": {
   "display_name": "Python 3",
   "language": "python",
   "name": "python3"
  },
  "language_info": {
   "codemirror_mode": {
    "name": "ipython",
    "version": 3
   },
   "file_extension": ".py",
   "mimetype": "text/x-python",
   "name": "python",
   "nbconvert_exporter": "python",
   "pygments_lexer": "ipython3",
   "version": "3.7.10"
  }
 },
 "nbformat": 4,
 "nbformat_minor": 5
}
