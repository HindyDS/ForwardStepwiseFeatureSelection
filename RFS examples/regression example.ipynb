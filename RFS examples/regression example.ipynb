{
 "cells": [
  {
   "cell_type": "code",
   "execution_count": 1,
   "id": "f5921914",
   "metadata": {},
   "outputs": [],
   "source": [
    "import pandas as pd\n",
    "import time\n",
    "import matplotlib.pyplot as plt\n",
    "import seaborn as sns\n",
    "import numpy as np\n",
    "import RecurrsiveFeatureSelector"
   ]
  },
  {
   "cell_type": "code",
   "execution_count": 2,
   "id": "315ff7c8",
   "metadata": {},
   "outputs": [],
   "source": [
    "insurance = pd.read_csv('insurance.csv')\n",
    "label = {key:value for (key,value) in zip(list(insurance['region'].unique()), [i for i in range(0,7)])}\n",
    "label.update({'male':0, 'female':1, 'yes':0, 'no':1})\n",
    "insurance.replace(label, inplace=True)"
   ]
  },
  {
   "cell_type": "code",
   "execution_count": 3,
   "id": "f8ab8145",
   "metadata": {},
   "outputs": [
    {
     "data": {
      "text/html": [
       "<div>\n",
       "<style scoped>\n",
       "    .dataframe tbody tr th:only-of-type {\n",
       "        vertical-align: middle;\n",
       "    }\n",
       "\n",
       "    .dataframe tbody tr th {\n",
       "        vertical-align: top;\n",
       "    }\n",
       "\n",
       "    .dataframe thead th {\n",
       "        text-align: right;\n",
       "    }\n",
       "</style>\n",
       "<table border=\"1\" class=\"dataframe\">\n",
       "  <thead>\n",
       "    <tr style=\"text-align: right;\">\n",
       "      <th></th>\n",
       "      <th>age</th>\n",
       "      <th>sex</th>\n",
       "      <th>bmi</th>\n",
       "      <th>children</th>\n",
       "      <th>smoker</th>\n",
       "      <th>region</th>\n",
       "      <th>charges</th>\n",
       "    </tr>\n",
       "  </thead>\n",
       "  <tbody>\n",
       "    <tr>\n",
       "      <th>0</th>\n",
       "      <td>19</td>\n",
       "      <td>1</td>\n",
       "      <td>27.900</td>\n",
       "      <td>0</td>\n",
       "      <td>0</td>\n",
       "      <td>0</td>\n",
       "      <td>16884.92400</td>\n",
       "    </tr>\n",
       "    <tr>\n",
       "      <th>1</th>\n",
       "      <td>18</td>\n",
       "      <td>0</td>\n",
       "      <td>33.770</td>\n",
       "      <td>1</td>\n",
       "      <td>1</td>\n",
       "      <td>1</td>\n",
       "      <td>1725.55230</td>\n",
       "    </tr>\n",
       "    <tr>\n",
       "      <th>2</th>\n",
       "      <td>28</td>\n",
       "      <td>0</td>\n",
       "      <td>33.000</td>\n",
       "      <td>3</td>\n",
       "      <td>1</td>\n",
       "      <td>1</td>\n",
       "      <td>4449.46200</td>\n",
       "    </tr>\n",
       "    <tr>\n",
       "      <th>3</th>\n",
       "      <td>33</td>\n",
       "      <td>0</td>\n",
       "      <td>22.705</td>\n",
       "      <td>0</td>\n",
       "      <td>1</td>\n",
       "      <td>2</td>\n",
       "      <td>21984.47061</td>\n",
       "    </tr>\n",
       "    <tr>\n",
       "      <th>4</th>\n",
       "      <td>32</td>\n",
       "      <td>0</td>\n",
       "      <td>28.880</td>\n",
       "      <td>0</td>\n",
       "      <td>1</td>\n",
       "      <td>2</td>\n",
       "      <td>3866.85520</td>\n",
       "    </tr>\n",
       "  </tbody>\n",
       "</table>\n",
       "</div>"
      ],
      "text/plain": [
       "   age  sex     bmi  children  smoker  region      charges\n",
       "0   19    1  27.900         0       0       0  16884.92400\n",
       "1   18    0  33.770         1       1       1   1725.55230\n",
       "2   28    0  33.000         3       1       1   4449.46200\n",
       "3   33    0  22.705         0       1       2  21984.47061\n",
       "4   32    0  28.880         0       1       2   3866.85520"
      ]
     },
     "execution_count": 3,
     "metadata": {},
     "output_type": "execute_result"
    }
   ],
   "source": [
    "insurance.head()"
   ]
  },
  {
   "cell_type": "code",
   "execution_count": 4,
   "id": "790ad540",
   "metadata": {},
   "outputs": [],
   "source": [
    "X = insurance.drop('charges', axis=1)\n",
    "y = insurance[['charges']]\n",
    "\n",
    "from sklearn.model_selection import train_test_split\n",
    "X_train, X_test, y_train, y_test = train_test_split(X, y, test_size=0.33, random_state=42)"
   ]
  },
  {
   "cell_type": "code",
   "execution_count": 5,
   "id": "9fbdff50",
   "metadata": {},
   "outputs": [],
   "source": [
    "from sklearn.preprocessing import StandardScaler\n",
    "scaler = StandardScaler()\n",
    "\n",
    "X_train = pd.DataFrame(scaler.fit_transform(X_train), columns=X_train.columns)\n",
    "X_test = pd.DataFrame(scaler.fit_transform(X_test), columns=X_test.columns)"
   ]
  },
  {
   "cell_type": "code",
   "execution_count": 6,
   "id": "cc22be96",
   "metadata": {},
   "outputs": [],
   "source": [
    "import xgboost as xgb\n",
    "clf = xgb.XGBRegressor(use_label_encoder=False, verbosity=0)"
   ]
  },
  {
   "cell_type": "code",
   "execution_count": 7,
   "id": "34ea83d7",
   "metadata": {},
   "outputs": [],
   "source": [
    "from sklearn.model_selection import cross_val_score"
   ]
  },
  {
   "cell_type": "code",
   "execution_count": 8,
   "id": "7e6d2102",
   "metadata": {},
   "outputs": [
    {
     "name": "stdout",
     "output_type": "stream",
     "text": [
      "Trial Started:\n",
      "Searching the best subset of features with XGBRegressor...\n",
      "-----------------------------------------------------------Trial 1-----------------------------------------------------------\n",
      "1/6: ['age']\n",
      "      Mean Absolute Error: 9313.559, Standard Deviation: 374.5946\n",
      " \n",
      "2/6: ['sex']\n",
      "      Mean Absolute Error: 9133.8724, Standard Deviation: 360.391\n",
      " \n",
      "3/6: ['bmi']\n",
      "      Mean Absolute Error: 10219.3304, Standard Deviation: 480.5625\n",
      " \n",
      "4/6: ['children']\n",
      "      Mean Absolute Error: 9107.7967, Standard Deviation: 355.9167\n",
      " \n",
      "5/6: ['smoker']\n",
      "      Mean Absolute Error: 5746.2588, Standard Deviation: 126.703\n",
      " \n",
      "6/6: ['region']\n",
      "      Mean Absolute Error: 9101.1879, Standard Deviation: 408.8551\n",
      " \n",
      "Best Combination of Trial 1: \n",
      "     bmi\n",
      " \n",
      "Best Score of Trial 1: \n",
      "     10219.3304\n",
      " \n",
      "Time Spent for Trial 1: 0.63(s)\n",
      " \n",
      "-----------------------------------------------------------Trial 2-----------------------------------------------------------\n",
      "1/5: ['bmi', 'age']\n",
      "      Mean Absolute Error: -0.3393, Standard Deviation: 0.1457\n",
      " \n",
      "2/5: ['bmi', 'sex']\n",
      "      Mean Absolute Error: -0.4406, Standard Deviation: 0.0593\n",
      " \n",
      "3/5: ['bmi', 'children']\n",
      "      Mean Absolute Error: -0.5349, Standard Deviation: 0.1892\n",
      " \n",
      "4/5: ['bmi', 'smoker']\n",
      "      Mean Absolute Error: 0.6351, Standard Deviation: 0.0435\n",
      " \n",
      "5/5: ['bmi', 'region']\n",
      "      Mean Absolute Error: -0.4171, Standard Deviation: 0.1384\n",
      " \n",
      "Best Combination of Trial 2: \n",
      "     ['bmi', 'smoker']\n",
      " \n",
      "Best Score of Trial 2: \n",
      "     0.6351\n",
      " \n",
      "Time Spent for Trial 2: 0.97(s)\n",
      " \n",
      "-----------------------------------------------------------Trial 3-----------------------------------------------------------\n",
      "1/4: ['bmi', 'smoker', 'age']\n",
      "      Mean Absolute Error: 0.7662, Standard Deviation: 0.0399\n",
      " \n",
      "2/4: ['bmi', 'smoker', 'sex']\n",
      "      Mean Absolute Error: 0.6391, Standard Deviation: 0.0446\n",
      " \n",
      "3/4: ['bmi', 'smoker', 'children']\n",
      "      Mean Absolute Error: 0.6367, Standard Deviation: 0.0555\n",
      " \n",
      "4/4: ['bmi', 'smoker', 'region']\n",
      "      Mean Absolute Error: 0.6288, Standard Deviation: 0.0522\n",
      " \n",
      "Best Combination of Trial 3: \n",
      "     ['bmi', 'smoker', 'age']\n",
      " \n",
      "Best Score of Trial 3: \n",
      "     0.7662\n",
      " \n",
      "Time Spent for Trial 3: 0.83(s)\n",
      " \n",
      "Chances to Fail reached. \n",
      "Trial stops.\n",
      "--------------------------------------------------------Trial Summary--------------------------------------------------------\n",
      "Best Combination: \n",
      "     ['bmi', 'smoker', 'age']\n",
      " \n",
      "Best Score: \n",
      "     0.7662\n",
      " \n",
      "---------------------------------------------End of Recurrsive Features Selection--------------------------------------------\n",
      "Total Time Spent: 2.47(s)\n"
     ]
    },
    {
     "data": {
      "image/png": "[encoded data removed]",
      "text/plain": [
       "<Figure size 1080x432 with 1 Axes>"
      ]
     },
     "metadata": {},
     "output_type": "display_data"
    }
   ],
   "source": [
    "rfs = RecurrsiveFeatureSelector.RecurrsiveFeatureSelector()\n",
    "rfs.trial(model=clf, \n",
    "          X=X_train, \n",
    "          y=y_train, \n",
    "          cv=3, \n",
    "          task='regression',\n",
    "          scoring='mean_absolute_error',\n",
    "          max_round=None, \n",
    "          chances_to_fail=1, \n",
    "          jump_start=None)"
   ]
  },
  {
   "cell_type": "code",
   "execution_count": 13,
   "id": "c93155d1",
   "metadata": {},
   "outputs": [
    {
     "data": {
      "text/plain": [
       "{'Trial 1': ['bmi'],\n",
       " 'Trial 2': ['bmi', 'smoker'],\n",
       " 'Trial 3': ['bmi', 'smoker', 'age']}"
      ]
     },
     "execution_count": 13,
     "metadata": {},
     "output_type": "execute_result"
    }
   ],
   "source": [
    "rfs.best_com"
   ]
  },
  {
   "cell_type": "code",
   "execution_count": 14,
   "id": "dce6e46b",
   "metadata": {},
   "outputs": [
    {
     "data": {
      "text/html": [
       "<div>\n",
       "<style scoped>\n",
       "    .dataframe tbody tr th:only-of-type {\n",
       "        vertical-align: middle;\n",
       "    }\n",
       "\n",
       "    .dataframe tbody tr th {\n",
       "        vertical-align: top;\n",
       "    }\n",
       "\n",
       "    .dataframe thead th {\n",
       "        text-align: right;\n",
       "    }\n",
       "</style>\n",
       "<table border=\"1\" class=\"dataframe\">\n",
       "  <thead>\n",
       "    <tr style=\"text-align: right;\">\n",
       "      <th></th>\n",
       "      <th>best_com</th>\n",
       "      <th>best_score</th>\n",
       "      <th>trials_time_spend</th>\n",
       "    </tr>\n",
       "  </thead>\n",
       "  <tbody>\n",
       "    <tr>\n",
       "      <th>Trial 1</th>\n",
       "      <td>[bmi]</td>\n",
       "      <td>10219.3304</td>\n",
       "      <td>0.63</td>\n",
       "    </tr>\n",
       "    <tr>\n",
       "      <th>Trial 2</th>\n",
       "      <td>[bmi, smoker]</td>\n",
       "      <td>0.6351</td>\n",
       "      <td>0.97</td>\n",
       "    </tr>\n",
       "    <tr>\n",
       "      <th>Trial 3</th>\n",
       "      <td>[bmi, smoker, age]</td>\n",
       "      <td>0.7662</td>\n",
       "      <td>0.83</td>\n",
       "    </tr>\n",
       "  </tbody>\n",
       "</table>\n",
       "</div>"
      ],
      "text/plain": [
       "                   best_com  best_score trials_time_spend\n",
       "Trial 1               [bmi]  10219.3304              0.63\n",
       "Trial 2       [bmi, smoker]      0.6351              0.97\n",
       "Trial 3  [bmi, smoker, age]      0.7662              0.83"
      ]
     },
     "execution_count": 14,
     "metadata": {},
     "output_type": "execute_result"
    }
   ],
   "source": [
    "rfs.summary"
   ]
  },
  {
   "cell_type": "code",
   "execution_count": 15,
   "id": "56136006",
   "metadata": {},
   "outputs": [
    {
     "data": {
      "text/plain": [
       "('bmi', 'smoker')"
      ]
     },
     "execution_count": 15,
     "metadata": {},
     "output_type": "execute_result"
    }
   ],
   "source": [
    "rfs.trial_best"
   ]
  },
  {
   "cell_type": "code",
   "execution_count": 16,
   "id": "52159d3b",
   "metadata": {},
   "outputs": [
    {
     "data": {
      "text/plain": [
       "{'Trial 1': 10219.3304, 'Trial 2': 0.6351, 'Trial 3': 0.7662}"
      ]
     },
     "execution_count": 16,
     "metadata": {},
     "output_type": "execute_result"
    }
   ],
   "source": [
    "rfs.best_score"
   ]
  }
 ],
 "metadata": {
  "kernelspec": {
   "display_name": "Python 3",
   "language": "python",
   "name": "python3"
  },
  "language_info": {
   "codemirror_mode": {
    "name": "ipython",
    "version": 3
   },
   "file_extension": ".py",
   "mimetype": "text/x-python",
   "name": "python",
   "nbconvert_exporter": "python",
   "pygments_lexer": "ipython3",
   "version": "3.7.10"
  }
 },
 "nbformat": 4,
 "nbformat_minor": 5
}
