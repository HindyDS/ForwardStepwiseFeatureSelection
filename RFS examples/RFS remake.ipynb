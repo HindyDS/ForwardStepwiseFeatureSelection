{
 "cells": [
  {
   "cell_type": "code",
   "execution_count": 1,
   "id": "ac20b48c",
   "metadata": {},
   "outputs": [],
   "source": [
    "import pandas as pd\n",
    "import time\n",
    "import matplotlib.pyplot as plt\n",
    "import seaborn as sns\n",
    "import RecurrsiveFeatureSelector"
   ]
  },
  {
   "cell_type": "code",
   "execution_count": 2,
   "id": "86a22ece",
   "metadata": {},
   "outputs": [
    {
     "data": {
      "text/html": [
       "<div>\n",
       "<style scoped>\n",
       "    .dataframe tbody tr th:only-of-type {\n",
       "        vertical-align: middle;\n",
       "    }\n",
       "\n",
       "    .dataframe tbody tr th {\n",
       "        vertical-align: top;\n",
       "    }\n",
       "\n",
       "    .dataframe thead th {\n",
       "        text-align: right;\n",
       "    }\n",
       "</style>\n",
       "<table border=\"1\" class=\"dataframe\">\n",
       "  <thead>\n",
       "    <tr style=\"text-align: right;\">\n",
       "      <th></th>\n",
       "      <th>SepalLengthCm</th>\n",
       "      <th>SepalWidthCm</th>\n",
       "      <th>PetalLengthCm</th>\n",
       "      <th>PetalWidthCm</th>\n",
       "      <th>Species</th>\n",
       "    </tr>\n",
       "  </thead>\n",
       "  <tbody>\n",
       "    <tr>\n",
       "      <th>0</th>\n",
       "      <td>5.1</td>\n",
       "      <td>3.5</td>\n",
       "      <td>1.4</td>\n",
       "      <td>0.2</td>\n",
       "      <td>0</td>\n",
       "    </tr>\n",
       "    <tr>\n",
       "      <th>1</th>\n",
       "      <td>4.9</td>\n",
       "      <td>3.0</td>\n",
       "      <td>1.4</td>\n",
       "      <td>0.2</td>\n",
       "      <td>0</td>\n",
       "    </tr>\n",
       "    <tr>\n",
       "      <th>2</th>\n",
       "      <td>4.7</td>\n",
       "      <td>3.2</td>\n",
       "      <td>1.3</td>\n",
       "      <td>0.2</td>\n",
       "      <td>0</td>\n",
       "    </tr>\n",
       "    <tr>\n",
       "      <th>3</th>\n",
       "      <td>4.6</td>\n",
       "      <td>3.1</td>\n",
       "      <td>1.5</td>\n",
       "      <td>0.2</td>\n",
       "      <td>0</td>\n",
       "    </tr>\n",
       "    <tr>\n",
       "      <th>4</th>\n",
       "      <td>5.0</td>\n",
       "      <td>3.6</td>\n",
       "      <td>1.4</td>\n",
       "      <td>0.2</td>\n",
       "      <td>0</td>\n",
       "    </tr>\n",
       "  </tbody>\n",
       "</table>\n",
       "</div>"
      ],
      "text/plain": [
       "   SepalLengthCm  SepalWidthCm  PetalLengthCm  PetalWidthCm  Species\n",
       "0            5.1           3.5            1.4           0.2        0\n",
       "1            4.9           3.0            1.4           0.2        0\n",
       "2            4.7           3.2            1.3           0.2        0\n",
       "3            4.6           3.1            1.5           0.2        0\n",
       "4            5.0           3.6            1.4           0.2        0"
      ]
     },
     "execution_count": 2,
     "metadata": {},
     "output_type": "execute_result"
    }
   ],
   "source": [
    "iris = pd.read_csv('iris.csv')\n",
    "iris = iris.iloc[:, 1:]\n",
    "iris.replace({'Iris-setosa':0, 'Iris-versicolor':1, 'Iris-virginica':2}, inplace=True)\n",
    "iris.head()"
   ]
  },
  {
   "cell_type": "code",
   "execution_count": 3,
   "id": "43f6fe2e",
   "metadata": {},
   "outputs": [],
   "source": [
    "X = iris.drop('Species', axis=1)\n",
    "y = iris['Species']\n",
    "\n",
    "from sklearn.model_selection import train_test_split\n",
    "X_train, X_test, y_train, y_test = train_test_split(X, y, test_size=0.33, random_state=42)"
   ]
  },
  {
   "cell_type": "code",
   "execution_count": 4,
   "id": "2b78c216",
   "metadata": {},
   "outputs": [],
   "source": [
    "from sklearn.preprocessing import StandardScaler\n",
    "scaler = StandardScaler()\n",
    "\n",
    "X_train = pd.DataFrame(scaler.fit_transform(X_train), columns=X_train.columns)\n",
    "X_test = pd.DataFrame(scaler.fit_transform(X_test), columns=X_test.columns)"
   ]
  },
  {
   "cell_type": "code",
   "execution_count": 5,
   "id": "e3eff30c",
   "metadata": {},
   "outputs": [],
   "source": [
    "import xgboost as xgb\n",
    "clf = xgb.XGBClassifier(use_label_encoder=False, verbosity=0)"
   ]
  },
  {
   "cell_type": "code",
   "execution_count": 6,
   "id": "728041f9",
   "metadata": {},
   "outputs": [],
   "source": [
    "import numpy as np\n",
    "from sklearn.model_selection import cross_val_score"
   ]
  },
  {
   "cell_type": "code",
   "execution_count": 7,
   "id": "6fb59094",
   "metadata": {},
   "outputs": [
    {
     "name": "stdout",
     "output_type": "stream",
     "text": [
      "Trial Started:\n",
      "------------------------------------------------------------Trial 1------------------------------------------------------------\n",
      "1/4: ['SepalLengthCm']\n",
      "      Score: 0.62, Standard Deviation: 0.1208\n",
      " \n",
      "2/4: ['SepalWidthCm']\n",
      "      Score: 0.48, Standard Deviation: 0.103\n",
      " \n",
      "3/4: ['PetalLengthCm']\n",
      "      Score: 0.91, Standard Deviation: 0.049\n",
      " \n",
      "4/4: ['PetalWidthCm']\n",
      "      Score: 0.93, Standard Deviation: 0.0678\n",
      " \n",
      "Best Combination of Trial 1: \n",
      "     PetalWidthCm\n",
      " \n",
      "Best Score of Trial 1: \n",
      "     0.93\n",
      " \n",
      "Time Spent for Trial 1: 1.21(s)\n",
      " \n",
      "------------------------------------------------------------Trial 2------------------------------------------------------------\n",
      "1/3: ['PetalWidthCm', 'SepalLengthCm']\n",
      "      Score: 0.92, Standard Deviation: 0.0678\n",
      " \n",
      "2/3: ['PetalWidthCm', 'SepalWidthCm']\n",
      "      Score: 0.92, Standard Deviation: 0.0812\n",
      " \n",
      "3/3: ['PetalWidthCm', 'PetalLengthCm']\n",
      "      Score: 0.93, Standard Deviation: 0.0678\n",
      " \n",
      "Best Combination of Trial 2: \n",
      "     ['PetalWidthCm', 'PetalLengthCm']\n",
      " \n",
      "Best Score of Trial 2: \n",
      "     0.93\n",
      " \n",
      "Time Spent for Trial 2: 0.71(s)\n",
      " \n",
      "------------------------------------------------------------Trial 3------------------------------------------------------------\n",
      "1/2: ['PetalWidthCm', 'PetalLengthCm', 'SepalLengthCm']\n",
      "      Score: 0.92, Standard Deviation: 0.06\n",
      " \n",
      "2/2: ['PetalWidthCm', 'PetalLengthCm', 'SepalWidthCm']\n",
      "      Score: 0.91, Standard Deviation: 0.0583\n",
      " \n",
      "Best Combination of Trial 3: \n",
      "     ['PetalWidthCm', 'PetalLengthCm', 'SepalLengthCm']\n",
      " \n",
      "Best Score of Trial 3: \n",
      "     0.92\n",
      " \n",
      "Time Spent for Trial 3: 0.45(s)\n",
      " \n",
      "------------------------------------------------------------Trial 4------------------------------------------------------------\n",
      "1/1: ['PetalWidthCm', 'PetalLengthCm', 'SepalLengthCm', 'SepalWidthCm']\n",
      "      Score: 0.91, Standard Deviation: 0.0583\n",
      " \n",
      "Best Combination of Trial 4: \n",
      "     ['PetalWidthCm', 'PetalLengthCm', 'SepalLengthCm', 'SepalWidthCm']\n",
      " \n",
      "Best Score of Trial 4: \n",
      "     0.91\n",
      " \n",
      "Time Spent for Trial 4: 0.23(s)\n",
      " \n",
      "All features combinations have been tried out.\n",
      "---------------------------------------------------------Trial Summary---------------------------------------------------------\n",
      "Best Combination: \n",
      "     ['PetalWidthCm', 'PetalLengthCm', 'SepalLengthCm', 'SepalWidthCm']\n",
      " \n",
      "Best Score: \n",
      "     0.91\n",
      " \n",
      "----------------------------------------------End of Recurrsive Features Selection---------------------------------------------\n",
      "Total Time Spent: 2.65(s)\n"
     ]
    },
    {
     "data": {
      "image/png": "[encoded data removed]",
      "text/plain": [
       "<Figure size 1080x432 with 1 Axes>"
      ]
     },
     "metadata": {},
     "output_type": "display_data"
    }
   ],
   "source": [
    "rfs = RecurrsiveFeatureSelector.RecurrsiveFeatureSelector()\n",
    "rfs.trial(model=clf, X=X_train, y=y_train, cv=5, task='classification', scoring='accuracy', max_round=None, chances_to_fail=10, jump_start=None)"
   ]
  },
  {
   "cell_type": "code",
   "execution_count": 8,
   "id": "62d31348",
   "metadata": {},
   "outputs": [
    {
     "data": {
      "text/plain": [
       "{'Trial 1': ['PetalWidthCm'],\n",
       " 'Trial 2': ['PetalWidthCm', 'PetalLengthCm'],\n",
       " 'Trial 3': ['PetalWidthCm', 'PetalLengthCm', 'SepalLengthCm'],\n",
       " 'Trial 4': ['PetalWidthCm', 'PetalLengthCm', 'SepalLengthCm', 'SepalWidthCm']}"
      ]
     },
     "execution_count": 8,
     "metadata": {},
     "output_type": "execute_result"
    }
   ],
   "source": [
    "rfs.best_com"
   ]
  },
  {
   "cell_type": "code",
   "execution_count": 9,
   "id": "084ee270",
   "metadata": {},
   "outputs": [
    {
     "data": {
      "text/plain": [
       "{'Trial 1': 0.93, 'Trial 2': 0.93, 'Trial 3': 0.92, 'Trial 4': 0.91}"
      ]
     },
     "execution_count": 9,
     "metadata": {},
     "output_type": "execute_result"
    }
   ],
   "source": [
    "rfs.best_score"
   ]
  },
  {
   "cell_type": "code",
   "execution_count": 10,
   "id": "5ede6bfa",
   "metadata": {},
   "outputs": [
    {
     "data": {
      "text/plain": [
       "'PetalWidthCm'"
      ]
     },
     "execution_count": 10,
     "metadata": {},
     "output_type": "execute_result"
    }
   ],
   "source": [
    "rfs.trial_best"
   ]
  },
  {
   "cell_type": "code",
   "execution_count": 11,
   "id": "c504e05e",
   "metadata": {},
   "outputs": [
    {
     "data": {
      "text/plain": [
       "{'Trial 1': 1.21, 'Trial 2': 0.71, 'Trial 3': 0.45, 'Trial 4': 0.23}"
      ]
     },
     "execution_count": 11,
     "metadata": {},
     "output_type": "execute_result"
    }
   ],
   "source": [
    "rfs.trials_time_spend"
   ]
  },
  {
   "cell_type": "code",
   "execution_count": 12,
   "id": "73fcae56",
   "metadata": {},
   "outputs": [
    {
     "data": {
      "text/html": [
       "<div>\n",
       "<style scoped>\n",
       "    .dataframe tbody tr th:only-of-type {\n",
       "        vertical-align: middle;\n",
       "    }\n",
       "\n",
       "    .dataframe tbody tr th {\n",
       "        vertical-align: top;\n",
       "    }\n",
       "\n",
       "    .dataframe thead th {\n",
       "        text-align: right;\n",
       "    }\n",
       "</style>\n",
       "<table border=\"1\" class=\"dataframe\">\n",
       "  <thead>\n",
       "    <tr style=\"text-align: right;\">\n",
       "      <th></th>\n",
       "      <th>best_com</th>\n",
       "      <th>best_score</th>\n",
       "      <th>trials_time_spend</th>\n",
       "    </tr>\n",
       "  </thead>\n",
       "  <tbody>\n",
       "    <tr>\n",
       "      <th>Trial 1</th>\n",
       "      <td>[PetalWidthCm]</td>\n",
       "      <td>0.93</td>\n",
       "      <td>1.21</td>\n",
       "    </tr>\n",
       "    <tr>\n",
       "      <th>Trial 2</th>\n",
       "      <td>[PetalWidthCm, PetalLengthCm]</td>\n",
       "      <td>0.93</td>\n",
       "      <td>0.71</td>\n",
       "    </tr>\n",
       "    <tr>\n",
       "      <th>Trial 3</th>\n",
       "      <td>[PetalWidthCm, PetalLengthCm, SepalLengthCm]</td>\n",
       "      <td>0.92</td>\n",
       "      <td>0.45</td>\n",
       "    </tr>\n",
       "    <tr>\n",
       "      <th>Trial 4</th>\n",
       "      <td>[PetalWidthCm, PetalLengthCm, SepalLengthCm, S...</td>\n",
       "      <td>0.91</td>\n",
       "      <td>0.23</td>\n",
       "    </tr>\n",
       "  </tbody>\n",
       "</table>\n",
       "</div>"
      ],
      "text/plain": [
       "                                                  best_com best_score  \\\n",
       "Trial 1                                     [PetalWidthCm]       0.93   \n",
       "Trial 2                      [PetalWidthCm, PetalLengthCm]       0.93   \n",
       "Trial 3       [PetalWidthCm, PetalLengthCm, SepalLengthCm]       0.92   \n",
       "Trial 4  [PetalWidthCm, PetalLengthCm, SepalLengthCm, S...       0.91   \n",
       "\n",
       "        trials_time_spend  \n",
       "Trial 1              1.21  \n",
       "Trial 2              0.71  \n",
       "Trial 3              0.45  \n",
       "Trial 4              0.23  "
      ]
     },
     "execution_count": 12,
     "metadata": {},
     "output_type": "execute_result"
    }
   ],
   "source": [
    "rfs.summary"
   ]
  }
 ],
 "metadata": {
  "kernelspec": {
   "display_name": "Python 3",
   "language": "python",
   "name": "python3"
  },
  "language_info": {
   "codemirror_mode": {
    "name": "ipython",
    "version": 3
   },
   "file_extension": ".py",
   "mimetype": "text/x-python",
   "name": "python",
   "nbconvert_exporter": "python",
   "pygments_lexer": "ipython3",
   "version": "3.7.10"
  }
 },
 "nbformat": 4,
 "nbformat_minor": 5
}
