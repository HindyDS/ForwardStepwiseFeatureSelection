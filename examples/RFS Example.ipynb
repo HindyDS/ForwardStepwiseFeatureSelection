{
 "cells": [
  {
   "cell_type": "code",
   "execution_count": 80,
   "id": "f6a6f3aa",
   "metadata": {},
   "outputs": [
    {
     "name": "stdout",
     "output_type": "stream",
     "text": [
      "Collecting Recurrsive-Feature-Selector\n",
      "  Downloading Recurrsive_Feature_Selector-0.0.2-py3-none-any.whl (1.5 kB)\n",
      "Installing collected packages: Recurrsive-Feature-Selector\n",
      "Successfully installed Recurrsive-Feature-Selector-0.0.2\n",
      "Note: you may need to restart the kernel to use updated packages.\n"
     ]
    }
   ],
   "source": [
    "pip install Recurrsive-Feature-Selector"
   ]
  },
  {
   "cell_type": "code",
   "execution_count": 26,
   "id": "21d1b6b0",
   "metadata": {},
   "outputs": [],
   "source": [
    "# Import Packages\n",
    "import pandas as pd\n",
    "import xgboost as xgb\n",
    "import RecurrsiveFeatureSelector"
   ]
  },
  {
   "cell_type": "code",
   "execution_count": 13,
   "id": "2759b6a0",
   "metadata": {},
   "outputs": [
    {
     "data": {
      "text/html": [
       "<div>\n",
       "<style scoped>\n",
       "    .dataframe tbody tr th:only-of-type {\n",
       "        vertical-align: middle;\n",
       "    }\n",
       "\n",
       "    .dataframe tbody tr th {\n",
       "        vertical-align: top;\n",
       "    }\n",
       "\n",
       "    .dataframe thead th {\n",
       "        text-align: right;\n",
       "    }\n",
       "</style>\n",
       "<table border=\"1\" class=\"dataframe\">\n",
       "  <thead>\n",
       "    <tr style=\"text-align: right;\">\n",
       "      <th></th>\n",
       "      <th>Id</th>\n",
       "      <th>SepalLengthCm</th>\n",
       "      <th>SepalWidthCm</th>\n",
       "      <th>PetalLengthCm</th>\n",
       "      <th>PetalWidthCm</th>\n",
       "      <th>Species</th>\n",
       "    </tr>\n",
       "  </thead>\n",
       "  <tbody>\n",
       "    <tr>\n",
       "      <th>0</th>\n",
       "      <td>1</td>\n",
       "      <td>5.1</td>\n",
       "      <td>3.5</td>\n",
       "      <td>1.4</td>\n",
       "      <td>0.2</td>\n",
       "      <td>Iris-setosa</td>\n",
       "    </tr>\n",
       "    <tr>\n",
       "      <th>1</th>\n",
       "      <td>2</td>\n",
       "      <td>4.9</td>\n",
       "      <td>3.0</td>\n",
       "      <td>1.4</td>\n",
       "      <td>0.2</td>\n",
       "      <td>Iris-setosa</td>\n",
       "    </tr>\n",
       "    <tr>\n",
       "      <th>2</th>\n",
       "      <td>3</td>\n",
       "      <td>4.7</td>\n",
       "      <td>3.2</td>\n",
       "      <td>1.3</td>\n",
       "      <td>0.2</td>\n",
       "      <td>Iris-setosa</td>\n",
       "    </tr>\n",
       "    <tr>\n",
       "      <th>3</th>\n",
       "      <td>4</td>\n",
       "      <td>4.6</td>\n",
       "      <td>3.1</td>\n",
       "      <td>1.5</td>\n",
       "      <td>0.2</td>\n",
       "      <td>Iris-setosa</td>\n",
       "    </tr>\n",
       "    <tr>\n",
       "      <th>4</th>\n",
       "      <td>5</td>\n",
       "      <td>5.0</td>\n",
       "      <td>3.6</td>\n",
       "      <td>1.4</td>\n",
       "      <td>0.2</td>\n",
       "      <td>Iris-setosa</td>\n",
       "    </tr>\n",
       "  </tbody>\n",
       "</table>\n",
       "</div>"
      ],
      "text/plain": [
       "   Id  SepalLengthCm  SepalWidthCm  PetalLengthCm  PetalWidthCm      Species\n",
       "0   1            5.1           3.5            1.4           0.2  Iris-setosa\n",
       "1   2            4.9           3.0            1.4           0.2  Iris-setosa\n",
       "2   3            4.7           3.2            1.3           0.2  Iris-setosa\n",
       "3   4            4.6           3.1            1.5           0.2  Iris-setosa\n",
       "4   5            5.0           3.6            1.4           0.2  Iris-setosa"
      ]
     },
     "execution_count": 13,
     "metadata": {},
     "output_type": "execute_result"
    }
   ],
   "source": [
    "iris = pd.read_csv('iris.csv')\n",
    "iris.head()"
   ]
  },
  {
   "cell_type": "code",
   "execution_count": 14,
   "id": "aa562977",
   "metadata": {},
   "outputs": [],
   "source": [
    "# Drop unnecessary column\n",
    "iris.drop('Id', axis=1, inplace=True)\n",
    "# Label the target\n",
    "iris.replace({'Iris-setosa':0, 'Iris-versicolor':1, 'Iris-virginica':2}, inplace=True)"
   ]
  },
  {
   "cell_type": "code",
   "execution_count": 15,
   "id": "18c05bc9",
   "metadata": {},
   "outputs": [],
   "source": [
    "# Splitting dataset into dataframes\n",
    "from sklearn.model_selection import train_test_split\n",
    "\n",
    "X = iris.drop('Species', axis=1)\n",
    "y = iris[['Species']]\n",
    "\n",
    "X_train, X_test, y_train, y_test = train_test_split(X, y, test_size=0.33, random_state=42)"
   ]
  },
  {
   "cell_type": "code",
   "execution_count": 16,
   "id": "2ba287c2",
   "metadata": {},
   "outputs": [],
   "source": [
    "# Standardizing the dataframes\n",
    "from sklearn.preprocessing import StandardScaler\n",
    "scaler = StandardScaler()\n",
    "X_train = pd.DataFrame(scaler.fit_transform(X_train), columns=X_train.columns)\n",
    "X_test = pd.DataFrame(scaler.fit_transform(X_test), columns=X_test.columns)"
   ]
  },
  {
   "cell_type": "code",
   "execution_count": 17,
   "id": "f5e2fdf6",
   "metadata": {},
   "outputs": [
    {
     "data": {
      "text/plain": [
       "XGBClassifier(base_score=0.5, booster='gbtree', colsample_bylevel=1,\n",
       "              colsample_bynode=1, colsample_bytree=1, gamma=0, gpu_id=-1,\n",
       "              importance_type='gain', interaction_constraints='',\n",
       "              learning_rate=0.300000012, max_delta_step=0, max_depth=6,\n",
       "              min_child_weight=1, missing=nan, monotone_constraints='()',\n",
       "              n_estimators=100, n_jobs=12, num_parallel_tree=1,\n",
       "              objective='multi:softprob', random_state=0, reg_alpha=0,\n",
       "              reg_lambda=1, scale_pos_weight=None, subsample=1,\n",
       "              tree_method='exact', use_label_encoder=False,\n",
       "              validate_parameters=1, verbosity=0)"
      ]
     },
     "execution_count": 17,
     "metadata": {},
     "output_type": "execute_result"
    }
   ],
   "source": [
    "# instantiate the ML model\n",
    "cls = xgb.XGBClassifier(verbosity=0, use_label_encoder=False )\n",
    "\n",
    "# fit the training datasets into the model\n",
    "cls.fit(X_train, y_train)"
   ]
  },
  {
   "cell_type": "code",
   "execution_count": 18,
   "id": "5671a61e",
   "metadata": {},
   "outputs": [
    {
     "name": "stdout",
     "output_type": "stream",
     "text": [
      "              precision    recall  f1-score   support\n",
      "\n",
      "           0       1.00      1.00      1.00        19\n",
      "           1       1.00      1.00      1.00        15\n",
      "           2       1.00      1.00      1.00        16\n",
      "\n",
      "    accuracy                           1.00        50\n",
      "   macro avg       1.00      1.00      1.00        50\n",
      "weighted avg       1.00      1.00      1.00        50\n",
      "\n"
     ]
    }
   ],
   "source": [
    "from sklearn.metrics import classification_report\n",
    "y_pred = cls.predict(X_test)\n",
    "print(classification_report(y_test, y_pred))"
   ]
  },
  {
   "cell_type": "code",
   "execution_count": 34,
   "id": "8fcdee00",
   "metadata": {},
   "outputs": [
    {
     "name": "stdout",
     "output_type": "stream",
     "text": [
      "1 / 4   SepalLengthCm : \n",
      "         Score =  0.62 ,   Standard Deviation =  0.121\n",
      " \n",
      "2 / 4   SepalWidthCm : \n",
      "         Score =  0.48 ,   Standard Deviation =  0.103\n",
      " \n",
      "3 / 4   PetalLengthCm : \n",
      "         Score =  0.9099999999999999 ,   Standard Deviation =  0.049\n",
      " \n",
      "4 / 4   PetalWidthCm : \n",
      "         Score =  0.93 ,   Standard Deviation =  0.068\n",
      " \n",
      " \n",
      "Best feature to start with: PetalWidthCm\n",
      "(According to scoring)\n",
      " \n",
      "RFS of XGBClassifier(base_score=0.5, booster='gbtree', colsample_bylevel=1,\n",
      "              colsample_bynode=1, colsample_bytree=1, gamma=0, gpu_id=-1,\n",
      "              importance_type='gain', interaction_constraints='',\n",
      "              learning_rate=0.300000012, max_delta_step=0, max_depth=6,\n",
      "              min_child_weight=1, missing=nan, monotone_constraints='()',\n",
      "              n_estimators=100, n_jobs=12, num_parallel_tree=1,\n",
      "              objective='multi:softprob', random_state=0, reg_alpha=0,\n",
      "              reg_lambda=1, scale_pos_weight=None, subsample=1,\n",
      "              tree_method='exact', use_label_encoder=False,\n",
      "              validate_parameters=1, verbosity=0) started:\n",
      " \n",
      "■■■■■■■■■■■■■■■■■■■■■■■■■■■■■■■■■■■■■■■■■■■■■■■■■■■■■■■■■ Trial 1 ■■■■■■■■■■■■■■■■■■■■■■■■■■■■■■■■■■■■■■■■■■■■■■■■■■■■■■■■■\n",
      "1 / 3  [ 'PetalWidthCm\", \"PetalLengthCm' ]\n",
      "          Score =  0.93 ,   Standard Deviation =  0.068\n",
      " \n",
      "2 / 3  [ 'PetalWidthCm\", \"SepalLengthCm' ]\n",
      "          Score =  0.9200000000000002 ,   Standard Deviation =  0.068\n",
      " \n",
      "3 / 3  [ 'PetalWidthCm\", \"SepalWidthCm' ]\n",
      "          Score =  0.9199999999999999 ,   Standard Deviation =  0.081\n",
      " \n",
      " \n",
      "Best of Trial 1:\n",
      "['PetalWidthCm', 'PetalLengthCm']\n",
      "Best Score:  0.93\n",
      " \n",
      " \n",
      "■■■■■■■■■■■■■■■■■■■■■■■■■■■■■■■■■■■■■■■■■■■■■■■■■■■■■■■■■ Trial 2 ■■■■■■■■■■■■■■■■■■■■■■■■■■■■■■■■■■■■■■■■■■■■■■■■■■■■■■■■■\n",
      "1 / 2  [ 'PetalWidthCm\", \"PetalLengthCm\", \"SepalLengthCm' ]\n",
      "          Score =  0.9200000000000002 ,   Standard Deviation:  0.06\n",
      " \n",
      "2 / 2  [ 'PetalWidthCm\", \"PetalLengthCm\", \"SepalWidthCm' ]\n",
      "          Score =  0.9099999999999999 ,   Standard Deviation:  0.058\n",
      " \n",
      " \n",
      "Best of Trial 2:\n",
      "['PetalWidthCm', 'PetalLengthCm', 'SepalLengthCm']\n",
      "Best Score:  0.9200000000000002\n",
      " \n",
      "Best overall combination: ['PetalWidthCm', 'PetalLengthCm']\n",
      " \n",
      "Best overall score: 0.93\n",
      "■■■■■■■■■■■■■■■■■■■■■■■■■■■■■■■■■■■■■■■■■■■■■■■■■■■■■■■ End of RFS ■■■■■■■■■■■■■■■■■■■■■■■■■■■■■■■■■■■■■■■■■■■■■■■■■■■■■■■\n"
     ]
    },
    {
     "data": {
      "image/png": "[encoded data removed]",
      "text/plain": [
       "<Figure size 1080x432 with 1 Axes>"
      ]
     },
     "metadata": {
      "needs_background": "light"
     },
     "output_type": "display_data"
    }
   ],
   "source": [
    "rfs# Instantiate the RecurrsiveFeatureSelector class\n",
    "rfs = RecurrsiveFeatureSelector.Recurrsive_Feature_Selector()\n",
    "rfs.search(model=cls, \n",
    "           X=X_train, \n",
    "           y=y_train, \n",
    "           cv=5, \n",
    "           task='classification', \n",
    "           scoring='accuracy', \n",
    "           k=None, \n",
    "           n=2, \n",
    "           jump_start=False, \n",
    "           base_com=None)"
   ]
  },
  {
   "cell_type": "code",
   "execution_count": 35,
   "id": "db6b5ece",
   "metadata": {},
   "outputs": [
    {
     "name": "stdout",
     "output_type": "stream",
     "text": [
      "              precision    recall  f1-score   support\n",
      "\n",
      "           0       1.00      1.00      1.00        19\n",
      "           1       1.00      1.00      1.00        15\n",
      "           2       1.00      1.00      1.00        16\n",
      "\n",
      "    accuracy                           1.00        50\n",
      "   macro avg       1.00      1.00      1.00        50\n",
      "weighted avg       1.00      1.00      1.00        50\n",
      "\n"
     ]
    }
   ],
   "source": [
    "# fit the training datasets with only the best features into the model\n",
    "cls.fit(X_train[rfs.best_combination], y_train)\n",
    "y_pred = cls.predict(X_test[rfs.best_combination])\n",
    "print(classification_report(y_test, y_pred))"
   ]
  },
  {
   "cell_type": "code",
   "execution_count": null,
   "id": "02cf24f6",
   "metadata": {},
   "outputs": [],
   "source": []
  }
 ],
 "metadata": {
  "kernelspec": {
   "display_name": "Python 3",
   "language": "python",
   "name": "python3"
  },
  "language_info": {
   "codemirror_mode": {
    "name": "ipython",
    "version": 3
   },
   "file_extension": ".py",
   "mimetype": "text/x-python",
   "name": "python",
   "nbconvert_exporter": "python",
   "pygments_lexer": "ipython3",
   "version": "3.7.10"
  }
 },
 "nbformat": 4,
 "nbformat_minor": 5
}
