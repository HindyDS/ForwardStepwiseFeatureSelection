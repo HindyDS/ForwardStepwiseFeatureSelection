{
 "cells": [
  {
   "cell_type": "code",
   "execution_count": null,
   "id": "b3154195",
   "metadata": {},
   "outputs": [],
   "source": [
    "# pip install ForwardStepwiseFeatureSelection"
   ]
  },
  {
   "cell_type": "code",
   "execution_count": 11,
   "id": "49052a37",
   "metadata": {},
   "outputs": [],
   "source": [
    "import pandas as pd\n",
    "import time\n",
    "import matplotlib.pyplot as plt\n",
    "import seaborn as sns\n",
    "import numpy as np\n",
    "from ForwardStepwiseFeatureSelection import ForwardStepwiseFeatureSelection"
   ]
  },
  {
   "cell_type": "code",
   "execution_count": 2,
   "id": "ae894a40",
   "metadata": {},
   "outputs": [],
   "source": [
    "insurance = pd.read_csv('insurance.csv')\n",
    "label = {key:value for (key,value) in zip(list(insurance['region'].unique()), [i for i in range(0,7)])}\n",
    "label.update({'male':0, 'female':1, 'yes':0, 'no':1})\n",
    "insurance.replace(label, inplace=True)"
   ]
  },
  {
   "cell_type": "code",
   "execution_count": 3,
   "id": "c8123c23",
   "metadata": {},
   "outputs": [
    {
     "data": {
      "text/html": [
       "<div>\n",
       "<style scoped>\n",
       "    .dataframe tbody tr th:only-of-type {\n",
       "        vertical-align: middle;\n",
       "    }\n",
       "\n",
       "    .dataframe tbody tr th {\n",
       "        vertical-align: top;\n",
       "    }\n",
       "\n",
       "    .dataframe thead th {\n",
       "        text-align: right;\n",
       "    }\n",
       "</style>\n",
       "<table border=\"1\" class=\"dataframe\">\n",
       "  <thead>\n",
       "    <tr style=\"text-align: right;\">\n",
       "      <th></th>\n",
       "      <th>age</th>\n",
       "      <th>sex</th>\n",
       "      <th>bmi</th>\n",
       "      <th>children</th>\n",
       "      <th>smoker</th>\n",
       "      <th>region</th>\n",
       "      <th>charges</th>\n",
       "    </tr>\n",
       "  </thead>\n",
       "  <tbody>\n",
       "    <tr>\n",
       "      <th>0</th>\n",
       "      <td>19</td>\n",
       "      <td>1</td>\n",
       "      <td>27.900</td>\n",
       "      <td>0</td>\n",
       "      <td>0</td>\n",
       "      <td>0</td>\n",
       "      <td>16884.92400</td>\n",
       "    </tr>\n",
       "    <tr>\n",
       "      <th>1</th>\n",
       "      <td>18</td>\n",
       "      <td>0</td>\n",
       "      <td>33.770</td>\n",
       "      <td>1</td>\n",
       "      <td>1</td>\n",
       "      <td>1</td>\n",
       "      <td>1725.55230</td>\n",
       "    </tr>\n",
       "    <tr>\n",
       "      <th>2</th>\n",
       "      <td>28</td>\n",
       "      <td>0</td>\n",
       "      <td>33.000</td>\n",
       "      <td>3</td>\n",
       "      <td>1</td>\n",
       "      <td>1</td>\n",
       "      <td>4449.46200</td>\n",
       "    </tr>\n",
       "    <tr>\n",
       "      <th>3</th>\n",
       "      <td>33</td>\n",
       "      <td>0</td>\n",
       "      <td>22.705</td>\n",
       "      <td>0</td>\n",
       "      <td>1</td>\n",
       "      <td>2</td>\n",
       "      <td>21984.47061</td>\n",
       "    </tr>\n",
       "    <tr>\n",
       "      <th>4</th>\n",
       "      <td>32</td>\n",
       "      <td>0</td>\n",
       "      <td>28.880</td>\n",
       "      <td>0</td>\n",
       "      <td>1</td>\n",
       "      <td>2</td>\n",
       "      <td>3866.85520</td>\n",
       "    </tr>\n",
       "  </tbody>\n",
       "</table>\n",
       "</div>"
      ],
      "text/plain": [
       "   age  sex     bmi  children  smoker  region      charges\n",
       "0   19    1  27.900         0       0       0  16884.92400\n",
       "1   18    0  33.770         1       1       1   1725.55230\n",
       "2   28    0  33.000         3       1       1   4449.46200\n",
       "3   33    0  22.705         0       1       2  21984.47061\n",
       "4   32    0  28.880         0       1       2   3866.85520"
      ]
     },
     "execution_count": 3,
     "metadata": {},
     "output_type": "execute_result"
    }
   ],
   "source": [
    "insurance.head()"
   ]
  },
  {
   "cell_type": "code",
   "execution_count": 4,
   "id": "302284b9",
   "metadata": {},
   "outputs": [],
   "source": [
    "X = insurance.drop('charges', axis=1)\n",
    "y = insurance[['charges']]\n",
    "\n",
    "from sklearn.model_selection import train_test_split\n",
    "X_train, X_test, y_train, y_test = train_test_split(X, y, test_size=0.33, random_state=42)"
   ]
  },
  {
   "cell_type": "code",
   "execution_count": 5,
   "id": "1e5498df",
   "metadata": {},
   "outputs": [],
   "source": [
    "from sklearn.preprocessing import StandardScaler\n",
    "scaler = StandardScaler()\n",
    "\n",
    "X_train = pd.DataFrame(scaler.fit_transform(X_train), columns=X_train.columns)\n",
    "X_test = pd.DataFrame(scaler.fit_transform(X_test), columns=X_test.columns)"
   ]
  },
  {
   "cell_type": "code",
   "execution_count": 6,
   "id": "2b4d088b",
   "metadata": {},
   "outputs": [],
   "source": [
    "import xgboost as xgb\n",
    "clf = xgb.XGBRegressor(use_label_encoder=False, verbosity=0)"
   ]
  },
  {
   "cell_type": "code",
   "execution_count": 7,
   "id": "7ff622e3",
   "metadata": {},
   "outputs": [],
   "source": [
    "from sklearn.model_selection import cross_val_score"
   ]
  },
  {
   "cell_type": "code",
   "execution_count": 13,
   "id": "51563ce8",
   "metadata": {
    "scrolled": false
   },
   "outputs": [
    {
     "name": "stdout",
     "output_type": "stream",
     "text": [
      "Searching the best subset of features with XGBRegressor...\n",
      "-----------------------------------------------------------Trial 1-----------------------------------------------------------\n",
      "1/6: ['age']\n",
      "      Negative Mean Absolute Error: -9313.559, Standard Deviation: 374.5946\n",
      " \n",
      "2/6: ['sex']\n",
      "      Negative Mean Absolute Error: -9133.8724, Standard Deviation: 360.391\n",
      " \n",
      "3/6: ['bmi']\n",
      "      Negative Mean Absolute Error: -10219.3304, Standard Deviation: 480.5625\n",
      " \n",
      "4/6: ['children']\n",
      "      Negative Mean Absolute Error: -9107.7967, Standard Deviation: 355.9167\n",
      " \n",
      "5/6: ['smoker']\n",
      "      Negative Mean Absolute Error: -5746.2588, Standard Deviation: 126.703\n",
      " \n",
      "6/6: ['region']\n",
      "      Negative Mean Absolute Error: -9101.1879, Standard Deviation: 408.8551\n",
      " \n",
      "Best Subset of Trial 1: \n",
      "     smoker\n",
      " \n",
      "Best Neg_Mean_Absolute_Error of Trial 1: \n",
      "     -5746.2588\n",
      " \n",
      "Time Spent for Trial 1: 0.66(s)\n",
      " \n",
      "-----------------------------------------------------------Trial 2-----------------------------------------------------------\n",
      "1/5: ['smoker', 'age']\n",
      "      Negative Mean Absolute Error: -4582.2187, Standard Deviation: 211.3256\n",
      " \n",
      "2/5: ['smoker', 'sex']\n",
      "      Negative Mean Absolute Error: -5754.9967, Standard Deviation: 127.4874\n",
      " \n",
      "3/5: ['smoker', 'bmi']\n",
      "      Negative Mean Absolute Error: -5316.0559, Standard Deviation: 128.2513\n",
      " \n",
      "4/5: ['smoker', 'children']\n",
      "      Negative Mean Absolute Error: -5824.294, Standard Deviation: 177.4161\n",
      " \n",
      "5/5: ['smoker', 'region']\n",
      "      Negative Mean Absolute Error: -5690.5311, Standard Deviation: 165.4385\n",
      " \n",
      "Best Subset of Trial 2: \n",
      "     ['smoker', 'age']\n",
      " \n",
      "Best Neg_Mean_Absolute_Error of Trial 2: \n",
      "     -4582.2187\n",
      " \n",
      "Time Spent for Trial 2: 0.65(s)\n",
      " \n",
      "-----------------------------------------------------------Trial 3-----------------------------------------------------------\n",
      "1/4: ['smoker', 'age', 'sex']\n",
      "      Negative Mean Absolute Error: -4819.9955, Standard Deviation: 286.8193\n",
      " \n",
      "2/4: ['smoker', 'age', 'bmi']\n",
      "      Negative Mean Absolute Error: -3384.1357, Standard Deviation: 68.5226\n",
      " \n",
      "3/4: ['smoker', 'age', 'children']\n",
      "      Negative Mean Absolute Error: -4746.894, Standard Deviation: 165.4964\n",
      " \n",
      "4/4: ['smoker', 'age', 'region']\n",
      "      Negative Mean Absolute Error: -4710.7994, Standard Deviation: 167.4266\n",
      " \n",
      "Best Subset of Trial 3: \n",
      "     ['smoker', 'age', 'bmi']\n",
      " \n",
      "Best Neg_Mean_Absolute_Error of Trial 3: \n",
      "     -3384.1357\n",
      " \n",
      "Time Spent for Trial 3: 0.88(s)\n",
      " \n",
      "-----------------------------------------------------------Trial 4-----------------------------------------------------------\n",
      "1/3: ['smoker', 'age', 'bmi', 'sex']\n",
      "      Negative Mean Absolute Error: -3314.8876, Standard Deviation: 116.1406\n",
      " \n",
      "2/3: ['smoker', 'age', 'bmi', 'children']\n",
      "      Negative Mean Absolute Error: -3090.5992, Standard Deviation: 53.0172\n",
      " \n",
      "3/3: ['smoker', 'age', 'bmi', 'region']\n",
      "      Negative Mean Absolute Error: -3340.5269, Standard Deviation: 165.1447\n",
      " \n",
      "Best Subset of Trial 4: \n",
      "     ['smoker', 'age', 'bmi', 'children']\n",
      " \n",
      "Best Neg_Mean_Absolute_Error of Trial 4: \n",
      "     -3090.5992\n",
      " \n",
      "Time Spent for Trial 4: 0.7(s)\n",
      " \n",
      "-----------------------------------------------------------Trial 5-----------------------------------------------------------\n",
      "1/2: ['smoker', 'age', 'bmi', 'children', 'sex']\n",
      "      Negative Mean Absolute Error: -3085.7086, Standard Deviation: 83.3391\n",
      " \n",
      "2/2: ['smoker', 'age', 'bmi', 'children', 'region']\n",
      "      Negative Mean Absolute Error: -3190.3544, Standard Deviation: 117.4554\n",
      " \n",
      "Best Subset of Trial 5: \n",
      "     ['smoker', 'age', 'bmi', 'children', 'sex']\n",
      " \n",
      "Best Neg_Mean_Absolute_Error of Trial 5: \n",
      "     -3085.7086\n",
      " \n",
      "Time Spent for Trial 5: 0.48(s)\n",
      " \n",
      "-----------------------------------------------------------Trial 6-----------------------------------------------------------\n",
      "1/1: ['smoker', 'age', 'bmi', 'children', 'sex', 'region']\n",
      "      Negative Mean Absolute Error: -3122.9858, Standard Deviation: 88.6916\n",
      " \n",
      "Best Subset of Trial 6: \n",
      "     ['smoker', 'age', 'bmi', 'children', 'sex', 'region']\n",
      " \n",
      "Best Neg_Mean_Absolute_Error of Trial 6: \n",
      "     -3122.9858\n",
      " \n",
      "Time Spent for Trial 6: 0.24(s)\n",
      " \n",
      "All features Subsets have been tried out.\n",
      "--------------------------------------------------------Trial Summary--------------------------------------------------------\n",
      "Best Subset: \n",
      "     ['smoker', 'age', 'bmi', 'children', 'sex']\n",
      " \n",
      "Best Neg_Mean_Absolute_Error: \n",
      "     -3122.9858\n",
      " \n",
      "Total Time Spent: 3.65(s)\n",
      "---------------------------------------------End of Forward Stepwise Feature Selection--------------------------------------------\n"
     ]
    },
    {
     "data": {
      "image/png": "[encoded data removed]",
      "text/plain": [
       "<Figure size 1080x432 with 1 Axes>"
      ]
     },
     "metadata": {},
     "output_type": "display_data"
    }
   ],
   "source": [
    "fsfs = ForwardStepwiseFeatureSelection()\n",
    "fsfs.fit(X_train, y_train)\n",
    "fsfs.search(estimators=clf, cv=3, scoring='accuracy', verbose=1, tolerance=3)"
   ]
  },
  {
   "cell_type": "code",
   "execution_count": 14,
   "id": "f930bfe3",
   "metadata": {},
   "outputs": [
    {
     "data": {
      "text/plain": [
       "{'Trial 1': ['smoker'],\n",
       " 'Trial 2': ['smoker', 'age'],\n",
       " 'Trial 3': ['smoker', 'age', 'bmi'],\n",
       " 'Trial 4': ['smoker', 'age', 'bmi', 'children'],\n",
       " 'Trial 5': ['smoker', 'age', 'bmi', 'children', 'sex'],\n",
       " 'Trial 6': ['smoker', 'age', 'bmi', 'children', 'sex', 'region']}"
      ]
     },
     "execution_count": 14,
     "metadata": {},
     "output_type": "execute_result"
    }
   ],
   "source": [
    "fsfs.best_com"
   ]
  },
  {
   "cell_type": "code",
   "execution_count": 15,
   "id": "5d93a90f",
   "metadata": {},
   "outputs": [
    {
     "data": {
      "text/html": [
       "<div>\n",
       "<style scoped>\n",
       "    .dataframe tbody tr th:only-of-type {\n",
       "        vertical-align: middle;\n",
       "    }\n",
       "\n",
       "    .dataframe tbody tr th {\n",
       "        vertical-align: top;\n",
       "    }\n",
       "\n",
       "    .dataframe thead th {\n",
       "        text-align: right;\n",
       "    }\n",
       "</style>\n",
       "<table border=\"1\" class=\"dataframe\">\n",
       "  <thead>\n",
       "    <tr style=\"text-align: right;\">\n",
       "      <th></th>\n",
       "      <th>Best Subset</th>\n",
       "      <th>Best neg_mean_absolute_error</th>\n",
       "      <th>Time Spent</th>\n",
       "    </tr>\n",
       "  </thead>\n",
       "  <tbody>\n",
       "    <tr>\n",
       "      <th>Trial 1</th>\n",
       "      <td>[smoker]</td>\n",
       "      <td>-5746.2588</td>\n",
       "      <td>0.66</td>\n",
       "    </tr>\n",
       "    <tr>\n",
       "      <th>Trial 2</th>\n",
       "      <td>[smoker, age]</td>\n",
       "      <td>-4582.2187</td>\n",
       "      <td>0.65</td>\n",
       "    </tr>\n",
       "    <tr>\n",
       "      <th>Trial 3</th>\n",
       "      <td>[smoker, age, bmi]</td>\n",
       "      <td>-3384.1357</td>\n",
       "      <td>0.88</td>\n",
       "    </tr>\n",
       "    <tr>\n",
       "      <th>Trial 4</th>\n",
       "      <td>[smoker, age, bmi, children]</td>\n",
       "      <td>-3090.5992</td>\n",
       "      <td>0.7</td>\n",
       "    </tr>\n",
       "    <tr>\n",
       "      <th>Trial 5</th>\n",
       "      <td>[smoker, age, bmi, children, sex]</td>\n",
       "      <td>-3085.7086</td>\n",
       "      <td>0.48</td>\n",
       "    </tr>\n",
       "    <tr>\n",
       "      <th>Trial 6</th>\n",
       "      <td>[smoker, age, bmi, children, sex, region]</td>\n",
       "      <td>-3122.9858</td>\n",
       "      <td>0.24</td>\n",
       "    </tr>\n",
       "  </tbody>\n",
       "</table>\n",
       "</div>"
      ],
      "text/plain": [
       "                                       Best Subset  \\\n",
       "Trial 1                                   [smoker]   \n",
       "Trial 2                              [smoker, age]   \n",
       "Trial 3                         [smoker, age, bmi]   \n",
       "Trial 4               [smoker, age, bmi, children]   \n",
       "Trial 5          [smoker, age, bmi, children, sex]   \n",
       "Trial 6  [smoker, age, bmi, children, sex, region]   \n",
       "\n",
       "        Best neg_mean_absolute_error Time Spent  \n",
       "Trial 1                   -5746.2588       0.66  \n",
       "Trial 2                   -4582.2187       0.65  \n",
       "Trial 3                   -3384.1357       0.88  \n",
       "Trial 4                   -3090.5992        0.7  \n",
       "Trial 5                   -3085.7086       0.48  \n",
       "Trial 6                   -3122.9858       0.24  "
      ]
     },
     "execution_count": 15,
     "metadata": {},
     "output_type": "execute_result"
    }
   ],
   "source": [
    "fsfs.summary"
   ]
  },
  {
   "cell_type": "code",
   "execution_count": 16,
   "id": "1592ff5d",
   "metadata": {},
   "outputs": [
    {
     "data": {
      "text/plain": [
       "['smoker', 'age', 'bmi', 'children', 'sex']"
      ]
     },
     "execution_count": 16,
     "metadata": {},
     "output_type": "execute_result"
    }
   ],
   "source": [
    "fsfs.trial_best"
   ]
  },
  {
   "cell_type": "code",
   "execution_count": 17,
   "id": "3294eabe",
   "metadata": {},
   "outputs": [
    {
     "data": {
      "text/plain": [
       "{'Trial 1': -5746.2588,\n",
       " 'Trial 2': -4582.2187,\n",
       " 'Trial 3': -3384.1357,\n",
       " 'Trial 4': -3090.5992,\n",
       " 'Trial 5': -3085.7086,\n",
       " 'Trial 6': -3122.9858}"
      ]
     },
     "execution_count": 17,
     "metadata": {},
     "output_type": "execute_result"
    }
   ],
   "source": [
    "fsfs.best_score"
   ]
  }
 ],
 "metadata": {
  "kernelspec": {
   "display_name": "Python 3 (ipykernel)",
   "language": "python",
   "name": "python3"
  },
  "language_info": {
   "codemirror_mode": {
    "name": "ipython",
    "version": 3
   },
   "file_extension": ".py",
   "mimetype": "text/x-python",
   "name": "python",
   "nbconvert_exporter": "python",
   "pygments_lexer": "ipython3",
   "version": "3.9.7"
  }
 },
 "nbformat": 4,
 "nbformat_minor": 5
}
