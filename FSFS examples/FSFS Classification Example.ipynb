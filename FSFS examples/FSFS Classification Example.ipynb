{
 "cells": [
  {
   "cell_type": "code",
   "execution_count": 1,
   "id": "f6a6f3aa",
   "metadata": {},
   "outputs": [],
   "source": [
    "# pip install ForwardStepwiseFeatureSelection"
   ]
  },
  {
   "cell_type": "code",
   "execution_count": 2,
   "id": "21d1b6b0",
   "metadata": {},
   "outputs": [],
   "source": [
    "# Import Packages\n",
    "import pandas as pd\n",
    "import xgboost as xgb\n",
    "import time\n",
    "import numpy as np\n",
    "from sklearn.model_selection import cross_val_score\n",
    "import seaborn as sns\n",
    "import matplotlib.pyplot as plt\n",
    "from ForwardStepwiseFeatureSelection import ForwardStepwiseFeatureSelection"
   ]
  },
  {
   "cell_type": "code",
   "execution_count": 3,
   "id": "2759b6a0",
   "metadata": {},
   "outputs": [
    {
     "data": {
      "text/html": [
       "<div>\n",
       "<style scoped>\n",
       "    .dataframe tbody tr th:only-of-type {\n",
       "        vertical-align: middle;\n",
       "    }\n",
       "\n",
       "    .dataframe tbody tr th {\n",
       "        vertical-align: top;\n",
       "    }\n",
       "\n",
       "    .dataframe thead th {\n",
       "        text-align: right;\n",
       "    }\n",
       "</style>\n",
       "<table border=\"1\" class=\"dataframe\">\n",
       "  <thead>\n",
       "    <tr style=\"text-align: right;\">\n",
       "      <th></th>\n",
       "      <th>Id</th>\n",
       "      <th>SepalLengthCm</th>\n",
       "      <th>SepalWidthCm</th>\n",
       "      <th>PetalLengthCm</th>\n",
       "      <th>PetalWidthCm</th>\n",
       "      <th>Species</th>\n",
       "    </tr>\n",
       "  </thead>\n",
       "  <tbody>\n",
       "    <tr>\n",
       "      <th>0</th>\n",
       "      <td>1</td>\n",
       "      <td>5.1</td>\n",
       "      <td>3.5</td>\n",
       "      <td>1.4</td>\n",
       "      <td>0.2</td>\n",
       "      <td>Iris-setosa</td>\n",
       "    </tr>\n",
       "    <tr>\n",
       "      <th>1</th>\n",
       "      <td>2</td>\n",
       "      <td>4.9</td>\n",
       "      <td>3.0</td>\n",
       "      <td>1.4</td>\n",
       "      <td>0.2</td>\n",
       "      <td>Iris-setosa</td>\n",
       "    </tr>\n",
       "    <tr>\n",
       "      <th>2</th>\n",
       "      <td>3</td>\n",
       "      <td>4.7</td>\n",
       "      <td>3.2</td>\n",
       "      <td>1.3</td>\n",
       "      <td>0.2</td>\n",
       "      <td>Iris-setosa</td>\n",
       "    </tr>\n",
       "    <tr>\n",
       "      <th>3</th>\n",
       "      <td>4</td>\n",
       "      <td>4.6</td>\n",
       "      <td>3.1</td>\n",
       "      <td>1.5</td>\n",
       "      <td>0.2</td>\n",
       "      <td>Iris-setosa</td>\n",
       "    </tr>\n",
       "    <tr>\n",
       "      <th>4</th>\n",
       "      <td>5</td>\n",
       "      <td>5.0</td>\n",
       "      <td>3.6</td>\n",
       "      <td>1.4</td>\n",
       "      <td>0.2</td>\n",
       "      <td>Iris-setosa</td>\n",
       "    </tr>\n",
       "  </tbody>\n",
       "</table>\n",
       "</div>"
      ],
      "text/plain": [
       "   Id  SepalLengthCm  SepalWidthCm  PetalLengthCm  PetalWidthCm      Species\n",
       "0   1            5.1           3.5            1.4           0.2  Iris-setosa\n",
       "1   2            4.9           3.0            1.4           0.2  Iris-setosa\n",
       "2   3            4.7           3.2            1.3           0.2  Iris-setosa\n",
       "3   4            4.6           3.1            1.5           0.2  Iris-setosa\n",
       "4   5            5.0           3.6            1.4           0.2  Iris-setosa"
      ]
     },
     "execution_count": 3,
     "metadata": {},
     "output_type": "execute_result"
    }
   ],
   "source": [
    "iris = pd.read_csv('iris.csv')\n",
    "iris.head()"
   ]
  },
  {
   "cell_type": "code",
   "execution_count": 4,
   "id": "aa562977",
   "metadata": {},
   "outputs": [],
   "source": [
    "# Drop unnecessary column\n",
    "iris.drop('Id', axis=1, inplace=True)\n",
    "# Label the target\n",
    "iris.replace({'Iris-setosa':0, 'Iris-versicolor':1, 'Iris-virginica':2}, inplace=True)"
   ]
  },
  {
   "cell_type": "code",
   "execution_count": 5,
   "id": "18c05bc9",
   "metadata": {},
   "outputs": [],
   "source": [
    "# Splitting dataset into dataframes\n",
    "from sklearn.model_selection import train_test_split\n",
    "\n",
    "X = iris.drop('Species', axis=1)\n",
    "y = iris[['Species']]\n",
    "\n",
    "X_train, X_test, y_train, y_test = train_test_split(X, y, test_size=0.33, random_state=42)"
   ]
  },
  {
   "cell_type": "code",
   "execution_count": 6,
   "id": "2ba287c2",
   "metadata": {},
   "outputs": [],
   "source": [
    "# Standardizing the dataframes\n",
    "from sklearn.preprocessing import StandardScaler\n",
    "scaler = StandardScaler()\n",
    "X_train = pd.DataFrame(scaler.fit_transform(X_train), columns=X_train.columns)\n",
    "X_test = pd.DataFrame(scaler.fit_transform(X_test), columns=X_test.columns)"
   ]
  },
  {
   "cell_type": "code",
   "execution_count": 7,
   "id": "f5e2fdf6",
   "metadata": {},
   "outputs": [
    {
     "data": {
      "text/plain": [
       "XGBClassifier(base_score=0.5, booster='gbtree', colsample_bylevel=1,\n",
       "              colsample_bynode=1, colsample_bytree=1, gamma=0, gpu_id=-1,\n",
       "              importance_type='gain', interaction_constraints='',\n",
       "              learning_rate=0.300000012, max_delta_step=0, max_depth=6,\n",
       "              min_child_weight=1, missing=nan, monotone_constraints='()',\n",
       "              n_estimators=100, n_jobs=12, num_parallel_tree=1,\n",
       "              objective='multi:softprob', random_state=0, reg_alpha=0,\n",
       "              reg_lambda=1, scale_pos_weight=None, subsample=1,\n",
       "              tree_method='exact', use_label_encoder=False,\n",
       "              validate_parameters=1, verbosity=0)"
      ]
     },
     "execution_count": 7,
     "metadata": {},
     "output_type": "execute_result"
    }
   ],
   "source": [
    "# instantiate the ML model\n",
    "cls = xgb.XGBClassifier(verbosity=0, use_label_encoder=False )\n",
    "\n",
    "# fit the training datasets into the model\n",
    "cls.fit(X_train, y_train)"
   ]
  },
  {
   "cell_type": "code",
   "execution_count": 8,
   "id": "5671a61e",
   "metadata": {},
   "outputs": [
    {
     "name": "stdout",
     "output_type": "stream",
     "text": [
      "              precision    recall  f1-score   support\n",
      "\n",
      "           0       1.00      1.00      1.00        19\n",
      "           1       1.00      1.00      1.00        15\n",
      "           2       1.00      1.00      1.00        16\n",
      "\n",
      "    accuracy                           1.00        50\n",
      "   macro avg       1.00      1.00      1.00        50\n",
      "weighted avg       1.00      1.00      1.00        50\n",
      "\n"
     ]
    }
   ],
   "source": [
    "from sklearn.metrics import classification_report\n",
    "y_pred = cls.predict(X_test)\n",
    "print(classification_report(y_test, y_pred))"
   ]
  },
  {
   "cell_type": "code",
   "execution_count": 9,
   "id": "8fcdee00",
   "metadata": {
    "scrolled": false
   },
   "outputs": [
    {
     "name": "stdout",
     "output_type": "stream",
     "text": [
      "Searching the best subset of features with XGBClassifier...\n",
      "-----------------------------------------------------------Trial 1-----------------------------------------------------------\n",
      "1/4: ['SepalLengthCm']\n",
      "      Accuracy: 0.62, Standard Deviation: 0.1208\n",
      " \n",
      "2/4: ['SepalWidthCm']\n",
      "      Accuracy: 0.48, Standard Deviation: 0.103\n",
      " \n",
      "3/4: ['PetalLengthCm']\n",
      "      Accuracy: 0.91, Standard Deviation: 0.049\n",
      " \n",
      "4/4: ['PetalWidthCm']\n",
      "      Accuracy: 0.93, Standard Deviation: 0.0678\n",
      " \n",
      "Best Subset of Trial 1: \n",
      "     PetalWidthCm\n",
      " \n",
      "Best Accuracy of Trial 1: \n",
      "     0.93\n",
      " \n",
      "Time Spent for Trial 1: 1.26(s)\n",
      " \n",
      "-----------------------------------------------------------Trial 2-----------------------------------------------------------\n",
      "1/3: ['PetalWidthCm', 'SepalLengthCm']\n",
      "      Accuracy: 0.92, Standard Deviation: 0.0678\n",
      " \n",
      "2/3: ['PetalWidthCm', 'SepalWidthCm']\n",
      "      Accuracy: 0.92, Standard Deviation: 0.0812\n",
      " \n",
      "3/3: ['PetalWidthCm', 'PetalLengthCm']\n",
      "      Accuracy: 0.93, Standard Deviation: 0.0678\n",
      " \n",
      "Best Subset of Trial 2: \n",
      "     ['PetalWidthCm', 'PetalLengthCm']\n",
      " \n",
      "Best Accuracy of Trial 2: \n",
      "     0.93\n",
      " \n",
      "Time Spent for Trial 2: 0.76(s)\n",
      " \n",
      "-----------------------------------------------------------Trial 3-----------------------------------------------------------\n",
      "1/2: ['PetalWidthCm', 'PetalLengthCm', 'SepalLengthCm']\n",
      "      Accuracy: 0.92, Standard Deviation: 0.06\n",
      " \n",
      "2/2: ['PetalWidthCm', 'PetalLengthCm', 'SepalWidthCm']\n",
      "      Accuracy: 0.91, Standard Deviation: 0.0583\n",
      " \n",
      "Best Subset of Trial 3: \n",
      "     ['PetalWidthCm', 'PetalLengthCm', 'SepalLengthCm']\n",
      " \n",
      "Best Accuracy of Trial 3: \n",
      "     0.92\n",
      " \n",
      "Time Spent for Trial 3: 0.49(s)\n",
      " \n",
      "-----------------------------------------------------------Trial 4-----------------------------------------------------------\n",
      "1/1: ['PetalWidthCm', 'PetalLengthCm', 'SepalLengthCm', 'SepalWidthCm']\n",
      "      Accuracy: 0.91, Standard Deviation: 0.0583\n",
      " \n",
      "Best Subset of Trial 4: \n",
      "     ['PetalWidthCm', 'PetalLengthCm', 'SepalLengthCm', 'SepalWidthCm']\n",
      " \n",
      "Best Accuracy of Trial 4: \n",
      "     0.91\n",
      " \n",
      "Time Spent for Trial 4: 0.24(s)\n",
      " \n",
      "All features Subsets have been tried out.\n",
      "--------------------------------------------------------Trial Summary--------------------------------------------------------\n",
      "Best Subset: \n",
      "     ['PetalWidthCm']\n",
      " \n",
      "Best Accuracy: \n",
      "     0.91\n",
      " \n",
      "Total Time Spent: 2.79(s)\n",
      "---------------------------------------------End of Forward Stepwise Feature Selection--------------------------------------------\n"
     ]
    },
    {
     "data": {
      "image/png": "[encoded data removed]",
      "text/plain": [
       "<Figure size 1080x432 with 1 Axes>"
      ]
     },
     "metadata": {},
     "output_type": "display_data"
    }
   ],
   "source": [
    "# Instantiate the ForwardStepwiseFeatureSelection class\n",
    "fsfs = ForwardStepwiseFeatureSelection()\n",
    "fsfs.fit(X_train, y_train)\n",
    "fsfs.search(estimators=cls, cv=3, scoring='accuracy', verbose=1, tolerance=3)"
   ]
  },
  {
   "cell_type": "code",
   "execution_count": 13,
   "id": "1700bbdc",
   "metadata": {},
   "outputs": [
    {
     "data": {
      "text/plain": [
       "{'Trial 1': ['PetalWidthCm'],\n",
       " 'Trial 2': ['PetalWidthCm', 'PetalLengthCm'],\n",
       " 'Trial 3': ['PetalWidthCm', 'PetalLengthCm', 'SepalLengthCm'],\n",
       " 'Trial 4': ['PetalWidthCm', 'PetalLengthCm', 'SepalLengthCm', 'SepalWidthCm']}"
      ]
     },
     "execution_count": 13,
     "metadata": {},
     "output_type": "execute_result"
    }
   ],
   "source": [
    "fsfs.best_com"
   ]
  },
  {
   "cell_type": "code",
   "execution_count": 11,
   "id": "8ec635e4",
   "metadata": {},
   "outputs": [
    {
     "data": {
      "text/html": [
       "<div>\n",
       "<style scoped>\n",
       "    .dataframe tbody tr th:only-of-type {\n",
       "        vertical-align: middle;\n",
       "    }\n",
       "\n",
       "    .dataframe tbody tr th {\n",
       "        vertical-align: top;\n",
       "    }\n",
       "\n",
       "    .dataframe thead th {\n",
       "        text-align: right;\n",
       "    }\n",
       "</style>\n",
       "<table border=\"1\" class=\"dataframe\">\n",
       "  <thead>\n",
       "    <tr style=\"text-align: right;\">\n",
       "      <th></th>\n",
       "      <th>Best Subset</th>\n",
       "      <th>Best accuracy</th>\n",
       "      <th>Time Spent</th>\n",
       "    </tr>\n",
       "  </thead>\n",
       "  <tbody>\n",
       "    <tr>\n",
       "      <th>Trial 1</th>\n",
       "      <td>[PetalWidthCm]</td>\n",
       "      <td>0.93</td>\n",
       "      <td>1.26</td>\n",
       "    </tr>\n",
       "    <tr>\n",
       "      <th>Trial 2</th>\n",
       "      <td>[PetalWidthCm, PetalLengthCm]</td>\n",
       "      <td>0.93</td>\n",
       "      <td>0.76</td>\n",
       "    </tr>\n",
       "    <tr>\n",
       "      <th>Trial 3</th>\n",
       "      <td>[PetalWidthCm, PetalLengthCm, SepalLengthCm]</td>\n",
       "      <td>0.92</td>\n",
       "      <td>0.49</td>\n",
       "    </tr>\n",
       "    <tr>\n",
       "      <th>Trial 4</th>\n",
       "      <td>[PetalWidthCm, PetalLengthCm, SepalLengthCm, S...</td>\n",
       "      <td>0.91</td>\n",
       "      <td>0.24</td>\n",
       "    </tr>\n",
       "  </tbody>\n",
       "</table>\n",
       "</div>"
      ],
      "text/plain": [
       "                                               Best Subset Best accuracy  \\\n",
       "Trial 1                                     [PetalWidthCm]          0.93   \n",
       "Trial 2                      [PetalWidthCm, PetalLengthCm]          0.93   \n",
       "Trial 3       [PetalWidthCm, PetalLengthCm, SepalLengthCm]          0.92   \n",
       "Trial 4  [PetalWidthCm, PetalLengthCm, SepalLengthCm, S...          0.91   \n",
       "\n",
       "        Time Spent  \n",
       "Trial 1       1.26  \n",
       "Trial 2       0.76  \n",
       "Trial 3       0.49  \n",
       "Trial 4       0.24  "
      ]
     },
     "execution_count": 11,
     "metadata": {},
     "output_type": "execute_result"
    }
   ],
   "source": [
    "fsfs.summary"
   ]
  },
  {
   "cell_type": "code",
   "execution_count": 12,
   "id": "db6b5ece",
   "metadata": {},
   "outputs": [
    {
     "name": "stdout",
     "output_type": "stream",
     "text": [
      "              precision    recall  f1-score   support\n",
      "\n",
      "           0       1.00      1.00      1.00        19\n",
      "           1       0.93      0.87      0.90        15\n",
      "           2       0.88      0.94      0.91        16\n",
      "\n",
      "    accuracy                           0.94        50\n",
      "   macro avg       0.94      0.93      0.94        50\n",
      "weighted avg       0.94      0.94      0.94        50\n",
      "\n"
     ]
    }
   ],
   "source": [
    "# fit the training datasets with only the best features into the model\n",
    "cls.fit(X_train[fsfs.best_subset], y_train)\n",
    "y_pred = cls.predict(X_test[fsfs.best_subset])\n",
    "print(classification_report(y_test, y_pred))"
   ]
  }
 ],
 "metadata": {
  "kernelspec": {
   "display_name": "Python 3 (ipykernel)",
   "language": "python",
   "name": "python3"
  },
  "language_info": {
   "codemirror_mode": {
    "name": "ipython",
    "version": 3
   },
   "file_extension": ".py",
   "mimetype": "text/x-python",
   "name": "python",
   "nbconvert_exporter": "python",
   "pygments_lexer": "ipython3",
   "version": "3.9.7"
  }
 },
 "nbformat": 4,
 "nbformat_minor": 5
}
